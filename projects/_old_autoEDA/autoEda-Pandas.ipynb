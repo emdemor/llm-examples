{
 "cells": [
  {
   "cell_type": "code",
   "execution_count": null,
   "id": "36d55ddd-8b68-455c-bc54-0a6b69f01664",
   "metadata": {},
   "outputs": [],
   "source": [
    "# !pip install -U langchain openai"
   ]
  },
  {
   "cell_type": "code",
   "execution_count": null,
   "id": "b4bf08cd-32d2-4cb1-8c75-480280a108e8",
   "metadata": {},
   "outputs": [],
   "source": [
    "import os\n",
    "import pandas as pd\n",
    "\n",
    "from getpass import getpass\n",
    "from langchain_experimental.agents import create_pandas_dataframe_agent\n",
    "from langchain_openai import ChatOpenAI\n",
    "\n",
    "if os.environ[\"OPENAI_API_KEY\"] is None:\n",
    "    os.environ[\"OPENAI_API_KEY\"] = getpass(\"Insert your openai api key:\")"
   ]
  },
  {
   "cell_type": "markdown",
   "id": "d9241eab-cc60-4bff-bb51-33b4adaef3bb",
   "metadata": {},
   "source": [
    "# Modelom de Linguagem"
   ]
  },
  {
   "cell_type": "code",
   "execution_count": null,
   "id": "a783a01f-b8f9-4a38-b4c7-532805b25d7a",
   "metadata": {},
   "outputs": [],
   "source": [
    "llm = ChatOpenAI(temperature=0, model=\"gpt-4o-mini\")"
   ]
  },
  {
   "attachments": {},
   "cell_type": "markdown",
   "id": "f97fdc95-ed03-4551-8a51-cb9d9bbd7ae2",
   "metadata": {},
   "source": [
    "# Dataframe de Exemplo"
   ]
  },
  {
   "cell_type": "code",
   "execution_count": null,
   "id": "988de860-9ac5-4e14-bbbe-0073bc5fd624",
   "metadata": {},
   "outputs": [],
   "source": [
    "# Example dataframe\n",
    "df = pd.DataFrame()\n",
    "for year in range(1992, 2023):\n",
    "    df = pd.concat([df, pd.read_csv(f\"https://raw.githubusercontent.com/abhionlyone/us-car-models-data/master/{year}.csv\")])\n",
    "\n",
    "agent = create_pandas_dataframe_agent(llm, df, verbose=True, allow_dangerous_code=True)"
   ]
  },
  {
   "cell_type": "code",
   "execution_count": null,
   "id": "3e66945f-b684-4baa-a232-67781988649d",
   "metadata": {},
   "outputs": [],
   "source": [
    "agent.invoke(\"Qual o modelo de carro mais vendido em 1997?\")"
   ]
  },
  {
   "cell_type": "code",
   "execution_count": null,
   "id": "938c2d75",
   "metadata": {},
   "outputs": [],
   "source": [
    "string_csv = agent.invoke(\n",
    "\"\"\"\n",
    "Calcule a quantidade de carros por ano e salve o dataframe resultante em formato csv com as colunas \"year\" e \"qt_cars\" num arquivo \"data/agregados.csv\".\n",
    "\"\"\"\n",
    ")"
   ]
  },
  {
   "cell_type": "code",
   "execution_count": null,
   "id": "ee660b43",
   "metadata": {},
   "outputs": [],
   "source": [
    "df_agg = pd.read_csv(\"data/agregados.csv\")\n",
    "\n",
    "df_agg.head()"
   ]
  },
  {
   "cell_type": "code",
   "execution_count": null,
   "id": "f1e9f10a",
   "metadata": {},
   "outputs": [],
   "source": [
    "agent = create_pandas_dataframe_agent(OpenAI(temperature=0), df_agg, verbose=True, allow_dangerous_code=True)\n",
    "\n",
    "string_csv = agent.invoke(\n",
    "\"\"\"\n",
    "Faça uma regressão linear usando 'year' no eixo X e 'qt_cars' no eixo y.\n",
    "Salve o pickle do modelo em 'models/linear_regression.pkl'.\n",
    "Gere um gráfico comparando os dados de df_agg (scatterplot azul) com a regressão linear (lineplot vermelho)\n",
    "\"\"\"\n",
    ")\n"
   ]
  },
  {
   "cell_type": "code",
   "execution_count": null,
   "id": "19e2cc3c-6f7b-4ec4-b466-3e061d746513",
   "metadata": {},
   "outputs": [],
   "source": [
    "agent.invoke(\"De acordo com a regressão linear dada em 'models/linear_regression.pkl', qual a previsão do número de carros para 2025?\")"
   ]
  },
  {
   "cell_type": "code",
   "execution_count": null,
   "id": "aed7b4c5-313e-444b-8015-3a1d616c31db",
   "metadata": {},
   "outputs": [],
   "source": [
    "agent.run(\"Pode me gerar um gráfico de linhas da quantidade de carros fabricadas pela Chevrolet por ano?\")"
   ]
  },
  {
   "cell_type": "code",
   "execution_count": null,
   "id": "26c6b472-a7a8-4ce5-b706-071fe462d4e3",
   "metadata": {},
   "outputs": [],
   "source": [
    "df_agg = agent.run(\"Pode me gerar um pandas dataframe com quantidade de carros fabricadas pela Chevrolet por ano?\")"
   ]
  },
  {
   "cell_type": "code",
   "execution_count": null,
   "id": "1dd49ccd-d4ce-481a-879d-334c18c11529",
   "metadata": {},
   "outputs": [],
   "source": []
  }
 ],
 "metadata": {
  "kernelspec": {
   "display_name": "Python 3 (ipykernel)",
   "language": "python",
   "name": "python3"
  },
  "language_info": {
   "codemirror_mode": {
    "name": "ipython",
    "version": 3
   },
   "file_extension": ".py",
   "mimetype": "text/x-python",
   "name": "python",
   "nbconvert_exporter": "python",
   "pygments_lexer": "ipython3",
   "version": "3.11.6"
  }
 },
 "nbformat": 4,
 "nbformat_minor": 5
}
