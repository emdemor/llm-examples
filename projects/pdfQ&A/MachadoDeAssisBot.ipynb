{
 "cells": [
  {
   "cell_type": "code",
   "execution_count": 1,
   "id": "a8521bd1",
   "metadata": {},
   "outputs": [
    {
     "name": "stdout",
     "output_type": "stream",
     "text": [
      "Insert your OpenAI API Key: ········\n"
     ]
    }
   ],
   "source": [
    "import os\n",
    "import openai\n",
    "from getpass import getpass\n",
    "\n",
    "os.environ[\"OPENAI_API_KEY\"] = getpass(\"Insert your OpenAI API Key: \")"
   ]
  },
  {
   "cell_type": "markdown",
   "id": "b32e6580",
   "metadata": {},
   "source": [
    "O primeiro passo é importar o PDF com as informações necessárias"
   ]
  },
  {
   "cell_type": "code",
   "execution_count": 8,
   "id": "d5531efc",
   "metadata": {},
   "outputs": [],
   "source": [
    "from langchain.document_loaders import PyPDFLoader\n",
    "\n",
    "pdf_path = \"data/domCasmurro.pdf\"\n",
    "loader = PyPDFLoader(file_path=pdf_path)\n",
    "document = loader.load()"
   ]
  },
  {
   "cell_type": "markdown",
   "id": "42f7256b",
   "metadata": {},
   "source": [
    "Vamos deixar a possibilidade do desenvolvedor adicionar informações complementares a vector store"
   ]
  },
  {
   "cell_type": "code",
   "execution_count": 9,
   "id": "c537556a",
   "metadata": {},
   "outputs": [],
   "source": [
    "from langchain.document_loaders import TextLoader\n",
    "loader = TextLoader(\"data/domCasmurro-adicionais.txt\")\n",
    "complementary_document = loader.load()"
   ]
  },
  {
   "cell_type": "markdown",
   "id": "d8f8d398",
   "metadata": {},
   "source": [
    "Após isso, vamos dividir o texto em chunks"
   ]
  },
  {
   "cell_type": "code",
   "execution_count": 10,
   "id": "4531a145",
   "metadata": {},
   "outputs": [],
   "source": [
    "from langchain.text_splitter import RecursiveCharacterTextSplitter\n",
    "\n",
    "text_splitter = RecursiveCharacterTextSplitter(\n",
    "    chunk_size=2000, \n",
    "    chunk_overlap=50, \n",
    "    separators=[\"\\n\\n\", \"\\n\", \" \", \"\"]\n",
    ")\n",
    "texts = text_splitter.split_documents(document+complementary_document)"
   ]
  },
  {
   "cell_type": "markdown",
   "id": "325cf4cb",
   "metadata": {},
   "source": [
    "Vamos escolher um embedder para transformar as sentenças em vetores. Aqui, em vez de utilizar es embeddings da OpenAi, vou escolher utilizar um embedder da HuggingFace para reduzir os custos"
   ]
  },
  {
   "cell_type": "code",
   "execution_count": 11,
   "id": "5f1d5d0f",
   "metadata": {},
   "outputs": [],
   "source": [
    "from langchain.embeddings import HuggingFaceEmbeddings\n",
    "embeddings = HuggingFaceEmbeddings(model_name=\"clips/mfaq\")"
   ]
  },
  {
   "cell_type": "markdown",
   "id": "f5ded2e3",
   "metadata": {},
   "source": [
    "Agora, vamos criar o banco de dados vetorial e persistir"
   ]
  },
  {
   "cell_type": "code",
   "execution_count": 12,
   "id": "ad117e33",
   "metadata": {},
   "outputs": [],
   "source": [
    "from langchain.vectorstores import FAISS\n",
    "\n",
    "# -- demora ----------------------------\n",
    "vector_store = FAISS.from_documents(texts, embeddings)\n",
    "vector_store.save_local(\"data/dom-casmurro-huggingface.db\")"
   ]
  },
  {
   "cell_type": "markdown",
   "id": "4ba46263",
   "metadata": {},
   "source": [
    "Em usos gerais, quando formos utilizar a vector store, devemos instancia o mesmo modelo de embedding e importar a vector store do arquivo local"
   ]
  },
  {
   "cell_type": "code",
   "execution_count": 13,
   "id": "0596e6aa",
   "metadata": {},
   "outputs": [
    {
     "name": "stdout",
     "output_type": "stream",
     "text": [
      "CPU times: user 1.64 s, sys: 453 ms, total: 2.09 s\n",
      "Wall time: 1.73 s\n"
     ]
    }
   ],
   "source": [
    "%%time\n",
    "from langchain.vectorstores import FAISS\n",
    "from langchain.embeddings import HuggingFaceEmbeddings\n",
    "\n",
    "embeddings = HuggingFaceEmbeddings(model_name=\"clips/mfaq\")\n",
    "vector_store = FAISS.load_local(\"data/dom-casmurro-huggingface.db\", embeddings)"
   ]
  },
  {
   "cell_type": "markdown",
   "id": "6fca14c6",
   "metadata": {},
   "source": [
    "## RetrievalQA"
   ]
  },
  {
   "cell_type": "markdown",
   "id": "d25cbcc7",
   "metadata": {},
   "source": [
    "Nas vezes em que você não quer uma conversação, mas assim, apenas uma resposta, deve-se usar o `RetrievalQA`"
   ]
  },
  {
   "cell_type": "code",
   "execution_count": 14,
   "id": "bd8be09f",
   "metadata": {},
   "outputs": [],
   "source": [
    "from langchain.chains  import RetrievalQA\n",
    "from langchain.llms import OpenAI\n",
    "\n",
    "# Escolha o modelo de lingaugem\n",
    "llm = OpenAI(model='text-davinci-003', temperature=0)\n",
    "\n",
    "# Isntancie o retriever\n",
    "qa = RetrievalQA.from_chain_type(llm=llm, chain_type=\"stuff\", retriever=vector_store.as_retriever())"
   ]
  },
  {
   "cell_type": "code",
   "execution_count": 15,
   "id": "1529ffa3",
   "metadata": {},
   "outputs": [
    {
     "data": {
      "text/plain": [
       "' Os personagens principais de Dom Casmurro são Bento Santiago, Capitu, Escobar, Sancha, José Dias e Glória.'"
      ]
     },
     "execution_count": 15,
     "metadata": {},
     "output_type": "execute_result"
    }
   ],
   "source": [
    "qa.run(\"Quem são os personagens principais de dom Casmurro?\")"
   ]
  },
  {
   "cell_type": "code",
   "execution_count": 16,
   "id": "7edccedb",
   "metadata": {},
   "outputs": [
    {
     "data": {
      "text/plain": [
       "' Bento e Capitu são amantes.'"
      ]
     },
     "execution_count": 16,
     "metadata": {},
     "output_type": "execute_result"
    }
   ],
   "source": [
    "qa.run(\"Qual a relação entre Bento e Capitu?\")"
   ]
  },
  {
   "cell_type": "code",
   "execution_count": 17,
   "id": "507ec7b9",
   "metadata": {},
   "outputs": [
    {
     "data": {
      "text/plain": [
       "' A história de \"Dom Casmurro\" se passa na cidade do Rio de Janeiro, no Brasil.'"
      ]
     },
     "execution_count": 17,
     "metadata": {},
     "output_type": "execute_result"
    }
   ],
   "source": [
    "qa.run(\"Em que cidade se passa a história?\")"
   ]
  },
  {
   "cell_type": "code",
   "execution_count": 31,
   "id": "ba42091b",
   "metadata": {},
   "outputs": [
    {
     "data": {
      "text/plain": [
       "' Ezequiel é o filho de Capitu e o narrador do livro.'"
      ]
     },
     "execution_count": 31,
     "metadata": {},
     "output_type": "execute_result"
    }
   ],
   "source": [
    "qa.run(\"Quem é Ezequiel?\")"
   ]
  },
  {
   "cell_type": "markdown",
   "id": "ba9f5fb4",
   "metadata": {},
   "source": [
    "## ConversationalRetrievalChain"
   ]
  },
  {
   "cell_type": "markdown",
   "id": "2e924784",
   "metadata": {},
   "source": [
    "Agora, caso exista a necessidade de uma conversação, dai devemos instanciar outra cadeia: o ConversationalRetrievalChain. Nesse caso, temos uma nova ferramenta que se encarrega de guardar a memória das mensagens"
   ]
  },
  {
   "cell_type": "code",
   "execution_count": 18,
   "id": "2e7a7ef7",
   "metadata": {},
   "outputs": [],
   "source": [
    "from langchain.memory import ConversationBufferMemory\n",
    "\n",
    "memory = ConversationBufferMemory(memory_key=\"chat_history\", return_messages=True)"
   ]
  },
  {
   "cell_type": "markdown",
   "id": "9c1dfe76",
   "metadata": {},
   "source": [
    "Com o buffer de memória, ai sim podemos instanciar o `ConversationalRetrievalChain`"
   ]
  },
  {
   "cell_type": "code",
   "execution_count": 19,
   "id": "94ca2e15",
   "metadata": {},
   "outputs": [],
   "source": [
    "from langchain.chains import ConversationalRetrievalChain\n",
    "\n",
    "llm = OpenAI(temperature=0)\n",
    "\n",
    "qa = ConversationalRetrievalChain.from_llm(\n",
    "    llm,\n",
    "    vector_store.as_retriever(),\n",
    "    memory=memory\n",
    ")"
   ]
  },
  {
   "cell_type": "code",
   "execution_count": 20,
   "id": "886c42c5",
   "metadata": {},
   "outputs": [
    {
     "data": {
      "text/plain": [
       "' Os personagens principais de Dom Casmurro são Bento Santiago, Capitu, Escobar, Sancha, José Dias e Glória.'"
      ]
     },
     "execution_count": 20,
     "metadata": {},
     "output_type": "execute_result"
    }
   ],
   "source": [
    "query = \"Quem são os personagens principais de dom Casmurro?\"\n",
    "result = qa({\"question\": query})\n",
    "result[\"answer\"]"
   ]
  },
  {
   "cell_type": "code",
   "execution_count": 21,
   "id": "a79e0427",
   "metadata": {},
   "outputs": [
    {
     "data": {
      "text/plain": [
       "' Escobar e Sancha formam um casal.'"
      ]
     },
     "execution_count": 21,
     "metadata": {},
     "output_type": "execute_result"
    }
   ],
   "source": [
    "query = \"Quais desses formam um casal?\"\n",
    "result = qa({\"question\": query})\n",
    "result[\"answer\"]"
   ]
  },
  {
   "cell_type": "code",
   "execution_count": 22,
   "id": "ca7cca5f",
   "metadata": {},
   "outputs": [
    {
     "data": {
      "text/plain": [
       "' Escobar e Maria.'"
      ]
     },
     "execution_count": 22,
     "metadata": {},
     "output_type": "execute_result"
    }
   ],
   "source": [
    "query = \"E alem desses dois?\"\n",
    "result = qa({\"question\": query})\n",
    "result[\"answer\"]"
   ]
  },
  {
   "cell_type": "code",
   "execution_count": 23,
   "id": "096be611",
   "metadata": {},
   "outputs": [
    {
     "data": {
      "text/plain": [
       "' Não, não temos certeza de que Escobar e Maria formam um casal. Não há nenhuma menção a eles formando um casal no contexto.'"
      ]
     },
     "execution_count": 23,
     "metadata": {},
     "output_type": "execute_result"
    }
   ],
   "source": [
    "query = \"Tem certeza?\"\n",
    "result = qa({\"question\": query})\n",
    "result[\"answer\"]"
   ]
  },
  {
   "cell_type": "code",
   "execution_count": 24,
   "id": "3744e1dc",
   "metadata": {},
   "outputs": [
    {
     "data": {
      "text/plain": [
       "' Bento Santiago se envolve com Capitu, a quem ele se casa.'"
      ]
     },
     "execution_count": 24,
     "metadata": {},
     "output_type": "execute_result"
    }
   ],
   "source": [
    "query = \"Mas e dentre os personagens principais, com quem Bento se envolve?\"\n",
    "result = qa({\"question\": query})\n",
    "result[\"answer\"]"
   ]
  },
  {
   "cell_type": "code",
   "execution_count": 25,
   "id": "91daacba",
   "metadata": {},
   "outputs": [
    {
     "data": {
      "text/plain": [
       "' Sim, Capitu tem um filho.'"
      ]
     },
     "execution_count": 25,
     "metadata": {},
     "output_type": "execute_result"
    }
   ],
   "source": [
    "query = \"E ela tem um filho?\"\n",
    "result = qa({\"question\": query})\n",
    "result[\"answer\"]"
   ]
  },
  {
   "cell_type": "code",
   "execution_count": 27,
   "id": "4604ba2c",
   "metadata": {},
   "outputs": [
    {
     "data": {
      "text/plain": [
       "' O pai do filho de Capitu é Mano Cosme.'"
      ]
     },
     "execution_count": 27,
     "metadata": {},
     "output_type": "execute_result"
    }
   ],
   "source": [
    "query = \"E quem é o pai do filho de Capitu?\"\n",
    "result = qa({\"question\": query})\n",
    "result[\"answer\"]"
   ]
  },
  {
   "cell_type": "code",
   "execution_count": 29,
   "id": "a6566def",
   "metadata": {},
   "outputs": [
    {
     "data": {
      "text/plain": [
       "' O nome do filho de Capitu não é mencionado.'"
      ]
     },
     "execution_count": 29,
     "metadata": {},
     "output_type": "execute_result"
    }
   ],
   "source": [
    "query = \"E qual é o nome do filho de Capitu?\"\n",
    "result = qa({\"question\": query})\n",
    "result[\"answer\"]"
   ]
  },
  {
   "cell_type": "code",
   "execution_count": 32,
   "id": "12c4016c",
   "metadata": {},
   "outputs": [
    {
     "data": {
      "text/plain": [
       "' Ezequiel é o filho de Capitu e o narrador do livro.'"
      ]
     },
     "execution_count": 32,
     "metadata": {},
     "output_type": "execute_result"
    }
   ],
   "source": [
    "query = \"E quem é Ezequiel?\"\n",
    "result = qa({\"question\": query})\n",
    "result[\"answer\"]"
   ]
  },
  {
   "cell_type": "code",
   "execution_count": null,
   "id": "ca7f0902",
   "metadata": {},
   "outputs": [],
   "source": []
  }
 ],
 "metadata": {
  "kernelspec": {
   "display_name": "Python 3 (ipykernel)",
   "language": "python",
   "name": "python3"
  },
  "language_info": {
   "codemirror_mode": {
    "name": "ipython",
    "version": 3
   },
   "file_extension": ".py",
   "mimetype": "text/x-python",
   "name": "python",
   "nbconvert_exporter": "python",
   "pygments_lexer": "ipython3",
   "version": "3.10.9"
  }
 },
 "nbformat": 4,
 "nbformat_minor": 5
}
