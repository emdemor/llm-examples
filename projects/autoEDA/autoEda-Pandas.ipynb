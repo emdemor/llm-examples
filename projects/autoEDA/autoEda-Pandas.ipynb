{
 "cells": [
  {
   "cell_type": "code",
   "execution_count": 4,
   "id": "36d55ddd-8b68-455c-bc54-0a6b69f01664",
   "metadata": {},
   "outputs": [],
   "source": [
    "# !pip install -U langchain openai"
   ]
  },
  {
   "cell_type": "code",
   "execution_count": 1,
   "id": "b4bf08cd-32d2-4cb1-8c75-480280a108e8",
   "metadata": {},
   "outputs": [],
   "source": [
    "import os\n",
    "import pandas as pd\n",
    "\n",
    "from getpass import getpass\n",
    "from langchain.agents import create_pandas_dataframe_agent\n",
    "from langchain.llms import OpenAI\n",
    "\n",
    "os.environ[\"OPENAI_API_KEY\"] = getpass(\"Insert your openai api key:\")"
   ]
  },
  {
   "attachments": {},
   "cell_type": "markdown",
   "id": "f97fdc95-ed03-4551-8a51-cb9d9bbd7ae2",
   "metadata": {},
   "source": [
    "# Dataframe de Exemplo"
   ]
  },
  {
   "cell_type": "code",
   "execution_count": 2,
   "id": "988de860-9ac5-4e14-bbbe-0073bc5fd624",
   "metadata": {},
   "outputs": [],
   "source": [
    "# Example dataframe\n",
    "df = pd.DataFrame()\n",
    "for year in range(1992, 2023):\n",
    "    df = pd.concat([df, pd.read_csv(f\"https://raw.githubusercontent.com/abhionlyone/us-car-models-data/master/{year}.csv\")])\n",
    "\n",
    "agent = create_pandas_dataframe_agent(OpenAI(temperature=0), df, verbose=True)"
   ]
  },
  {
   "cell_type": "code",
   "execution_count": 3,
   "id": "3e66945f-b684-4baa-a232-67781988649d",
   "metadata": {},
   "outputs": [
    {
     "name": "stdout",
     "output_type": "stream",
     "text": [
      "\n",
      "\n",
      "\u001b[1m> Entering new AgentExecutor chain...\u001b[0m\n",
      "\u001b[32;1m\u001b[1;3mThought: I need to find the most popular model in 1997\n",
      "Action: python_repl_ast\n",
      "Action Input: df[df['year'] == 1997]['model'].value_counts().head(1)\u001b[0m\n",
      "Observation: \u001b[36;1m\u001b[1;3mmodel\n",
      "Neon    2\n",
      "Name: count, dtype: int64\u001b[0m\n",
      "Thought:\u001b[32;1m\u001b[1;3m I now know the final answer\n",
      "Final Answer: Neon\u001b[0m\n",
      "\n",
      "\u001b[1m> Finished chain.\u001b[0m\n"
     ]
    },
    {
     "data": {
      "text/plain": [
       "'Neon'"
      ]
     },
     "execution_count": 3,
     "metadata": {},
     "output_type": "execute_result"
    }
   ],
   "source": [
    "agent.run(\"Qual o modelo de carro mais vendido em 1997?\")"
   ]
  },
  {
   "cell_type": "code",
   "execution_count": 13,
   "id": "938c2d75",
   "metadata": {},
   "outputs": [
    {
     "name": "stdout",
     "output_type": "stream",
     "text": [
      "\n",
      "\n",
      "\u001b[1m> Entering new AgentExecutor chain...\u001b[0m\n",
      "\u001b[32;1m\u001b[1;3m\n",
      "Thought: I need to count the number of cars per year\n",
      "Action: python_repl_ast\n",
      "Action Input: df.groupby('year').size().reset_index(name='qt_cars')\u001b[0m\n",
      "Observation: \u001b[36;1m\u001b[1;3m      year  qt_cars\n",
      "0   1992.0      282\n",
      "1   1993.0      291\n",
      "2   1994.0      261\n",
      "3   1995.0      267\n",
      "4   1996.0      261\n",
      "5   1997.0      265\n",
      "6   1998.0      258\n",
      "7   1999.0      282\n",
      "8   2000.0      292\n",
      "9   2001.0      300\n",
      "10  2002.0      309\n",
      "11  2003.0      311\n",
      "12  2004.0      332\n",
      "13  2005.0      342\n",
      "14  2006.0      347\n",
      "15  2007.0      370\n",
      "16  2008.0      367\n",
      "17  2009.0      363\n",
      "18  2010.0      347\n",
      "19  2011.0      348\n",
      "20  2012.0      345\n",
      "21  2013.0      354\n",
      "22  2014.0      371\n",
      "23  2015.0      391\n",
      "24  2016.0      404\n",
      "25  2017.0      446\n",
      "26  2018.0      439\n",
      "27  2019.0      466\n",
      "28  2020.0      375\n",
      "29  2021.0      450\n",
      "30  2022.0      477\u001b[0m\n",
      "Thought:\u001b[32;1m\u001b[1;3m I need to save the dataframe to a csv file\n",
      "Action: python_repl_ast\n",
      "Action Input: df.to_csv('data/agregados.csv', index=False)\u001b[0m\n",
      "Observation: \u001b[36;1m\u001b[1;3mOSError: Cannot save file into a non-existent directory: 'data'\u001b[0m\n",
      "Thought:\u001b[32;1m\u001b[1;3m I need to create the directory first\n",
      "Action: python_repl_ast\n",
      "Action Input: os.mkdir('data')\u001b[0m\n",
      "Observation: \u001b[36;1m\u001b[1;3mNameError: name 'os' is not defined\u001b[0m\n",
      "Thought:\u001b[32;1m\u001b[1;3m I need to import the os module\n",
      "Action: python_repl_ast\n",
      "Action Input: import os\u001b[0m\n",
      "Observation: \u001b[36;1m\u001b[1;3m\u001b[0m\n",
      "Thought:\u001b[32;1m\u001b[1;3m I can now save the dataframe to a csv file\n",
      "Action: python_repl_ast\n",
      "Action Input: df.to_csv('data/agregados.csv', index=False)\u001b[0m\n",
      "Observation: \u001b[36;1m\u001b[1;3mOSError: Cannot save file into a non-existent directory: 'data'\u001b[0m\n",
      "Thought:\u001b[32;1m\u001b[1;3m I need to create the directory first\n",
      "Action: python_repl_ast\n",
      "Action Input: os.mkdir('data')\u001b[0m\n",
      "Observation: \u001b[36;1m\u001b[1;3m\u001b[0m\n",
      "Thought:\u001b[32;1m\u001b[1;3m I can now save the dataframe to a csv file\n",
      "Action: python_repl_ast\n",
      "Action Input: df.groupby('year').size().reset_index(name='qt_cars').to_csv('data/agregados.csv', index=False)\u001b[0m\n",
      "Observation: \u001b[36;1m\u001b[1;3m\u001b[0m\n",
      "Thought:\u001b[32;1m\u001b[1;3m I now know the final answer\n",
      "Final Answer: The dataframe with the number of cars per year has been saved to the file 'data/agregados.csv' with the columns \"year\" and \"qt_cars\".\u001b[0m\n",
      "\n",
      "\u001b[1m> Finished chain.\u001b[0m\n"
     ]
    }
   ],
   "source": [
    "string_csv = agent.run(\n",
    "\"\"\"\n",
    "Calcule a quantidade de carros por ano e salve o dataframe resultante em formato csv com as colunas \"year\" e \"qt_cars\" num arquivo \"data/agregados.csv\".\n",
    "\"\"\"\n",
    ")"
   ]
  },
  {
   "cell_type": "code",
   "execution_count": 4,
   "id": "ee660b43",
   "metadata": {},
   "outputs": [
    {
     "data": {
      "text/html": [
       "<div>\n",
       "<style scoped>\n",
       "    .dataframe tbody tr th:only-of-type {\n",
       "        vertical-align: middle;\n",
       "    }\n",
       "\n",
       "    .dataframe tbody tr th {\n",
       "        vertical-align: top;\n",
       "    }\n",
       "\n",
       "    .dataframe thead th {\n",
       "        text-align: right;\n",
       "    }\n",
       "</style>\n",
       "<table border=\"1\" class=\"dataframe\">\n",
       "  <thead>\n",
       "    <tr style=\"text-align: right;\">\n",
       "      <th></th>\n",
       "      <th>year</th>\n",
       "      <th>qt_cars</th>\n",
       "    </tr>\n",
       "  </thead>\n",
       "  <tbody>\n",
       "    <tr>\n",
       "      <th>0</th>\n",
       "      <td>1992.0</td>\n",
       "      <td>282</td>\n",
       "    </tr>\n",
       "    <tr>\n",
       "      <th>1</th>\n",
       "      <td>1993.0</td>\n",
       "      <td>291</td>\n",
       "    </tr>\n",
       "    <tr>\n",
       "      <th>2</th>\n",
       "      <td>1994.0</td>\n",
       "      <td>261</td>\n",
       "    </tr>\n",
       "    <tr>\n",
       "      <th>3</th>\n",
       "      <td>1995.0</td>\n",
       "      <td>267</td>\n",
       "    </tr>\n",
       "    <tr>\n",
       "      <th>4</th>\n",
       "      <td>1996.0</td>\n",
       "      <td>261</td>\n",
       "    </tr>\n",
       "  </tbody>\n",
       "</table>\n",
       "</div>"
      ],
      "text/plain": [
       "     year  qt_cars\n",
       "0  1992.0      282\n",
       "1  1993.0      291\n",
       "2  1994.0      261\n",
       "3  1995.0      267\n",
       "4  1996.0      261"
      ]
     },
     "execution_count": 4,
     "metadata": {},
     "output_type": "execute_result"
    }
   ],
   "source": [
    "df_agg = pd.read_csv(\"data/agregados.csv\")\n",
    "\n",
    "df_agg.head()"
   ]
  },
  {
   "cell_type": "code",
   "execution_count": 5,
   "id": "f1e9f10a",
   "metadata": {},
   "outputs": [
    {
     "name": "stdout",
     "output_type": "stream",
     "text": [
      "\n",
      "\n",
      "\u001b[1m> Entering new AgentExecutor chain...\u001b[0m\n",
      "\u001b[32;1m\u001b[1;3m\n",
      "Thought: I need to create a linear regression model and save it as a pickle file, then generate a graph comparing the data from df_agg with the linear regression.\n",
      "Action: python_repl_ast\n",
      "Action Input: \n",
      "from sklearn.linear_model import LinearRegression\n",
      "\n",
      "X = df['year'].values.reshape(-1,1)\n",
      "y = df['qt_cars'].values\n",
      "\n",
      "model = LinearRegression()\n",
      "model.fit(X, y)\n",
      "\n",
      "import pickle\n",
      "pickle.dump(model, open('models/linear_regression.pkl', 'wb'))\n",
      "\u001b[0m\n",
      "Observation: \u001b[36;1m\u001b[1;3m\u001b[0m\n",
      "Thought:\u001b[32;1m\u001b[1;3m I now need to generate a graph comparing the data from df_agg with the linear regression\n",
      "Action: python_repl_ast\n",
      "Action Input: \n",
      "import matplotlib.pyplot as plt\n",
      "\n",
      "plt.scatter(X, y, color='blue')\n",
      "plt.plot(X, model.predict(X), color='red')\n",
      "plt.title('Linear Regression')\n",
      "plt.xlabel('Year')\n",
      "plt.ylabel('Number of Cars')\n",
      "plt.show()\n",
      "\u001b[0m"
     ]
    },
    {
     "data": {
      "image/png": "[encoded data removed]",
      "text/plain": [
       "<Figure size 640x480 with 1 Axes>"
      ]
     },
     "metadata": {},
     "output_type": "display_data"
    },
    {
     "name": "stdout",
     "output_type": "stream",
     "text": [
      "\n",
      "Observation: \u001b[36;1m\u001b[1;3m\u001b[0m\n",
      "Thought:\u001b[32;1m\u001b[1;3m I now know the final answer\n",
      "Final Answer: A graph comparing the data from df_agg (scatterplot azul) with the linear regression (lineplot vermelho) is displayed.\u001b[0m\n",
      "\n",
      "\u001b[1m> Finished chain.\u001b[0m\n"
     ]
    }
   ],
   "source": [
    "agent = create_pandas_dataframe_agent(OpenAI(temperature=0), df_agg, verbose=True)\n",
    "\n",
    "string_csv = agent.run(\n",
    "\"\"\"\n",
    "Faça uma regressão linear usando 'year' no eixo X e 'qt_cars' no eixo y.\n",
    "Salve o pickle do modelo em 'models/linear_regression.pkl'.\n",
    "Gere um gráfico comparando os dados de df_agg (scatterplot azul) com a regressão linear (lineplot vermelho)\n",
    "\"\"\"\n",
    ")\n"
   ]
  },
  {
   "cell_type": "code",
   "execution_count": 6,
   "id": "19e2cc3c-6f7b-4ec4-b466-3e061d746513",
   "metadata": {},
   "outputs": [
    {
     "name": "stdout",
     "output_type": "stream",
     "text": [
      "\n",
      "\n",
      "\u001b[1m> Entering new AgentExecutor chain...\u001b[0m\n",
      "\u001b[32;1m\u001b[1;3mThought: Primeiro, preciso descobrir os valores de x e y para a regressão linear.\n",
      "Action: python_repl_ast\n",
      "Action Input: from sklearn.linear_model import LinearRegression\n",
      "               import pickle\n",
      "               with open('models/linear_regression.pkl', 'rb') as f:\n",
      "                   model = pickle.load(f)\n",
      "               x = df['year'].values.reshape(-1, 1)\n",
      "               y = df['qt_cars'].values\u001b[0m\n",
      "Observation: \u001b[36;1m\u001b[1;3mIndentationError: unexpected indent (<unknown>, line 2)\u001b[0m\n",
      "Thought:\u001b[32;1m\u001b[1;3m Preciso verificar se a indentação está correta.\n",
      "Action: python_repl_ast\n",
      "Action Input: from sklearn.linear_model import LinearRegression\n",
      "               import pickle\n",
      "               with open('models/linear_regression.pkl', 'rb') as f:\n",
      "                   model = pickle.load(f)\n",
      "               x = df['year'].values.reshape(-1, 1)\n",
      "               y = df['qt_cars'].values\u001b[0m\n",
      "Observation: \u001b[36;1m\u001b[1;3mIndentationError: unexpected indent (<unknown>, line 2)\u001b[0m\n",
      "Thought:"
     ]
    }
   ],
   "source": [
    "agent.run(\"De acordo com a regressão linear dada em 'models/linear_regression.pkl', qual a previsão do número de carros para 2025?\")"
   ]
  },
  {
   "cell_type": "code",
   "execution_count": 9,
   "id": "aed7b4c5-313e-444b-8015-3a1d616c31db",
   "metadata": {},
   "outputs": [
    {
     "name": "stdout",
     "output_type": "stream",
     "text": [
      "\n",
      "\n",
      "\u001b[1m> Entering new AgentExecutor chain...\u001b[0m\n",
      "\u001b[32;1m\u001b[1;3mThought: I need to get the number of cars made by Chevrolet each year\n",
      "Action: python_repl_ast\n",
      "Action Input: df[df['make'] == 'Chevrolet'].groupby('year').count()\u001b[0m\n",
      "Observation: \u001b[36;1m\u001b[1;3m      make  model  body_styles\n",
      "year                          \n",
      "1992    30     30           30\n",
      "1993    30     30           30\n",
      "1994    30     30           30\n",
      "1995    31     31           31\n",
      "1996    34     34           34\n",
      "1997    29     29           29\n",
      "1998    33     33           33\n",
      "1999    38     38           38\n",
      "2000    39     39           39\n",
      "2001    37     37           37\n",
      "2002    39     39           39\n",
      "2003    38     38           38\n",
      "2004    42     42           42\n",
      "2005    42     42           42\n",
      "2006    36     36           36\n",
      "2007    43     43           43\n",
      "2008    33     33           33\n",
      "2009    31     31           31\n",
      "2010    31     31           31\n",
      "2011    32     32           32\n",
      "2012    32     32           32\n",
      "2013    30     30           30\n",
      "2014    29     29           29\n",
      "2015    33     33           33\n",
      "2016    35     35           35\n",
      "2017    32     32           32\n",
      "2018    31     31           31\n",
      "2019    30     30           30\n",
      "2020    23     23           23\n",
      "2021    27     27           27\n",
      "2022    31     31           31\u001b[0m\n",
      "Thought:\u001b[32;1m\u001b[1;3m I now have the number of cars made by Chevrolet each year\n",
      "Action: python_repl_ast\n",
      "Action Input: df[df['make'] == 'Chevrolet'].groupby('year').count().plot()\u001b[0m\n",
      "Observation: \u001b[36;1m\u001b[1;3mAxes(0.125,0.11;0.775x0.77)\u001b[0m\n",
      "Thought:\u001b[32;1m\u001b[1;3m I now know the final answer\n",
      "Final Answer: A gráfico de linhas da quantidade de carros fabricadas pela Chevrolet por ano foi gerado.\u001b[0m\n",
      "\n",
      "\u001b[1m> Finished chain.\u001b[0m\n"
     ]
    },
    {
     "data": {
      "text/plain": [
       "'A gráfico de linhas da quantidade de carros fabricadas pela Chevrolet por ano foi gerado.'"
      ]
     },
     "execution_count": 9,
     "metadata": {},
     "output_type": "execute_result"
    },
    {
     "data": {
      "image/png": "[encoded data removed]",
      "text/plain": [
       "<Figure size 640x480 with 1 Axes>"
      ]
     },
     "metadata": {},
     "output_type": "display_data"
    }
   ],
   "source": [
    "agent.run(\"Pode me gerar um gráfico de linhas da quantidade de carros fabricadas pela Chevrolet por ano?\")"
   ]
  },
  {
   "cell_type": "code",
   "execution_count": 12,
   "id": "26c6b472-a7a8-4ce5-b706-071fe462d4e3",
   "metadata": {},
   "outputs": [
    {
     "name": "stdout",
     "output_type": "stream",
     "text": [
      "\n",
      "\n",
      "\u001b[1m> Entering new AgentExecutor chain...\u001b[0m\n",
      "\u001b[32;1m\u001b[1;3mThought: I need to group the data by make and year\n",
      "Action: python_repl_ast\n",
      "Action Input: df.groupby(['make', 'year']).size()\u001b[0m\n",
      "Observation: \u001b[36;1m\u001b[1;3mmake   year\n",
      "Acura  1992    4\n",
      "       1993    4\n",
      "       1994    4\n",
      "       1995    4\n",
      "       1996    5\n",
      "              ..\n",
      "smart  2015    2\n",
      "       2016    2\n",
      "       2017    4\n",
      "       2018    2\n",
      "       2019    2\n",
      "Length: 1288, dtype: int64\u001b[0m\n",
      "Thought:\u001b[32;1m\u001b[1;3m I need to convert this into a dataframe\n",
      "Action: python_repl_ast\n",
      "Action Input: df.groupby(['make', 'year']).size().reset_index(name='count')\u001b[0m\n",
      "Observation: \u001b[36;1m\u001b[1;3m       make  year  count\n",
      "0     Acura  1992      4\n",
      "1     Acura  1993      4\n",
      "2     Acura  1994      4\n",
      "3     Acura  1995      4\n",
      "4     Acura  1996      5\n",
      "...     ...   ...    ...\n",
      "1283  smart  2015      2\n",
      "1284  smart  2016      2\n",
      "1285  smart  2017      4\n",
      "1286  smart  2018      2\n",
      "1287  smart  2019      2\n",
      "\n",
      "[1288 rows x 3 columns]\u001b[0m\n",
      "Thought:\u001b[32;1m\u001b[1;3m I need to filter the dataframe to only include Chevrolet\n",
      "Action: python_repl_ast\n",
      "Action Input: df.groupby(['make', 'year']).size().reset_index(name='count').query('make == \"Chevrolet\"')\u001b[0m\n",
      "Observation: \u001b[36;1m\u001b[1;3m          make  year  count\n",
      "201  Chevrolet  1992     30\n",
      "202  Chevrolet  1993     30\n",
      "203  Chevrolet  1994     30\n",
      "204  Chevrolet  1995     31\n",
      "205  Chevrolet  1996     34\n",
      "206  Chevrolet  1997     29\n",
      "207  Chevrolet  1998     33\n",
      "208  Chevrolet  1999     38\n",
      "209  Chevrolet  2000     39\n",
      "210  Chevrolet  2001     37\n",
      "211  Chevrolet  2002     39\n",
      "212  Chevrolet  2003     38\n",
      "213  Chevrolet  2004     42\n",
      "214  Chevrolet  2005     42\n",
      "215  Chevrolet  2006     36\n",
      "216  Chevrolet  2007     43\n",
      "217  Chevrolet  2008     33\n",
      "218  Chevrolet  2009     31\n",
      "219  Chevrolet  2010     31\n",
      "220  Chevrolet  2011     32\n",
      "221  Chevrolet  2012     32\n",
      "222  Chevrolet  2013     30\n",
      "223  Chevrolet  2014     29\n",
      "224  Chevrolet  2015     33\n",
      "225  Chevrolet  2016     35\n",
      "226  Chevrolet  2017     32\n",
      "227  Chevrolet  2018     31\n",
      "228  Chevrolet  2019     30\n",
      "229  Chevrolet  2020     23\n",
      "230  Chevrolet  2021     27\n",
      "231  Chevrolet  2022     31\u001b[0m\n",
      "Thought:\u001b[32;1m\u001b[1;3m I now know the final answer\n",
      "Final Answer: A pandas dataframe com quantidade de carros fabricadas pela Chevrolet por ano é:\n",
      "\n",
      "|    |   make       | year | count |\n",
      "|---:|:-------------|-----:|------:|\n",
      "|201 | Chevrolet    | 1992 |    30 |\n",
      "|202 | Chevrolet    | 1993 |    30 |\n",
      "|203 | Chevrolet    | 1994 |    30 |\n",
      "|204 | Chevrolet    | 1995 |    31 |\n",
      "|205 | Chevrolet    | 1996 |    34 |\n",
      "|206 | Chevrolet    | 1997 |    29 |\n",
      "|207 | Chevrolet    | 1998 |    33 |\n",
      "|208 | Chevrolet    | 1999 |    38 |\n",
      "|209 | Chevrolet    | 2000 |    39 |\n",
      "|210 | Chevrolet    | 2001 |    37 |\n",
      "|211 | Chevrolet    | 2002 |    39 |\n",
      "|212 | Chevrolet    | 2003 |    38 |\n",
      "|213 | Chevrolet    | 2004 |    42 |\n",
      "|214 | Chevrolet    | 2005 |    42 |\n",
      "|215 | Chevrolet    | 2006 |    36 |\n",
      "|216 | Chevrolet    | 2007 |    43 |\n",
      "|217 | Chevrolet\u001b[0m\n",
      "\n",
      "\u001b[1m> Finished chain.\u001b[0m\n"
     ]
    }
   ],
   "source": [
    "df_agg = agent.run(\"Pode me gerar um pandas dataframe com quantidade de carros fabricadas pela Chevrolet por ano?\")"
   ]
  },
  {
   "cell_type": "code",
   "execution_count": null,
   "id": "1dd49ccd-d4ce-481a-879d-334c18c11529",
   "metadata": {},
   "outputs": [],
   "source": []
  }
 ],
 "metadata": {
  "kernelspec": {
   "display_name": "Python 3 (ipykernel)",
   "language": "python",
   "name": "python3"
  },
  "language_info": {
   "codemirror_mode": {
    "name": "ipython",
    "version": 3
   },
   "file_extension": ".py",
   "mimetype": "text/x-python",
   "name": "python",
   "nbconvert_exporter": "python",
   "pygments_lexer": "ipython3",
   "version": "3.9.13"
  }
 },
 "nbformat": 4,
 "nbformat_minor": 5
}
