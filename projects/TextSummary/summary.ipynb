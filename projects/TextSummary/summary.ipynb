{
 "cells": [
  {
   "cell_type": "code",
   "execution_count": 7,
   "id": "2de2b2f4-e1b6-4c27-bd03-031e3591a4b5",
   "metadata": {
    "execution": {
     "iopub.execute_input": "2024-08-05T00:03:32.432157Z",
     "iopub.status.busy": "2024-08-05T00:03:32.431746Z",
     "iopub.status.idle": "2024-08-05T00:03:32.456556Z",
     "shell.execute_reply": "2024-08-05T00:03:32.456209Z",
     "shell.execute_reply.started": "2024-08-05T00:03:32.432134Z"
    }
   },
   "outputs": [],
   "source": [
    "from langchain.callbacks import get_openai_callback\n",
    "from langchain_openai import ChatOpenAI\n",
    "\n",
    "LLM_MODEL = \"gpt-4o-mini\"\n",
    "TEXT_FILEPATH = \"youth.txt\"\n",
    "\n",
    "\n",
    "llm = ChatOpenAI(temperature=0, model=LLM_MODEL)"
   ]
  },
  {
   "cell_type": "code",
   "execution_count": 8,
   "id": "8f06529a-7240-4c61-8173-84437d99d8ad",
   "metadata": {
    "execution": {
     "iopub.execute_input": "2024-08-05T00:03:35.159888Z",
     "iopub.status.busy": "2024-08-05T00:03:35.159729Z",
     "iopub.status.idle": "2024-08-05T00:03:35.162301Z",
     "shell.execute_reply": "2024-08-05T00:03:35.161986Z",
     "shell.execute_reply.started": "2024-08-05T00:03:35.159873Z"
    }
   },
   "outputs": [],
   "source": [
    "with open(TEXT_FILEPATH, \"r\") as file:\n",
    "    text = file.read()"
   ]
  },
  {
   "cell_type": "markdown",
   "id": "d7fb6162-9005-4b14-920b-3f9f504c03a3",
   "metadata": {},
   "source": [
    "# Forma mais simples - Prompt Único"
   ]
  },
  {
   "cell_type": "markdown",
   "id": "a4849219-8be1-4ae3-bf38-5915497072ee",
   "metadata": {},
   "source": [
    "##### Certifique-se que o texto pode ser resumido com apenas um prompt"
   ]
  },
  {
   "cell_type": "code",
   "execution_count": 24,
   "id": "ca60d6ea-a170-4ade-bacb-9fe34b60191d",
   "metadata": {
    "execution": {
     "iopub.execute_input": "2024-08-05T00:16:39.043351Z",
     "iopub.status.busy": "2024-08-05T00:16:39.043154Z",
     "iopub.status.idle": "2024-08-05T00:16:39.057663Z",
     "shell.execute_reply": "2024-08-05T00:16:39.057201Z",
     "shell.execute_reply.started": "2024-08-05T00:16:39.043337Z"
    }
   },
   "outputs": [
    {
     "name": "stdout",
     "output_type": "stream",
     "text": [
      "Esse texto tem 17784 tokens.\n"
     ]
    }
   ],
   "source": [
    "import tiktoken\n",
    "\n",
    "encoding = tiktoken.encoding_for_model(LLM_MODEL)\n",
    "tokens = encoding.encode(text)\n",
    "\n",
    "print(f\"Esse texto tem {len(tokens)} tokens.\")"
   ]
  },
  {
   "cell_type": "code",
   "execution_count": null,
   "id": "1cc7ff00-a25f-436a-8199-c79d223ab07a",
   "metadata": {},
   "outputs": [],
   "source": []
  },
  {
   "cell_type": "code",
   "execution_count": 21,
   "id": "7195cd81-bb38-4772-95ea-b023504059aa",
   "metadata": {
    "execution": {
     "iopub.execute_input": "2024-08-05T00:12:34.189904Z",
     "iopub.status.busy": "2024-08-05T00:12:34.189616Z",
     "iopub.status.idle": "2024-08-05T00:12:49.806785Z",
     "shell.execute_reply": "2024-08-05T00:12:49.806254Z",
     "shell.execute_reply.started": "2024-08-05T00:12:34.189884Z"
    }
   },
   "outputs": [
    {
     "name": "stdout",
     "output_type": "stream",
     "text": [
      "Tokens Used: 18813\n",
      "\tPrompt Tokens: 17804\n",
      "\tCompletion Tokens: 1009\n",
      "Successful Requests: 1\n",
      "Total Cost (USD): $0.0032759999999999994\n"
     ]
    }
   ],
   "source": [
    "from langchain.prompts import PromptTemplate\n",
    "\n",
    "assert len(tokens) < 128_000\n",
    "\n",
    "text_template = (\n",
    "    \"Conte a história seguinte na forma de um conto:\\n\"\n",
    "    \"```\\n\"\n",
    "    \"{text}\"\n",
    "    \"\\n```\"\n",
    ")\n",
    "\n",
    "prompt = PromptTemplate(input_variables=[\"text\"], template=text_template)\n",
    "\n",
    "chain = prompt | llm\n",
    "\n",
    "with get_openai_callback() as cb:\n",
    "    summary = chain.invoke({\"text\": text})\n",
    "    print(cb)"
   ]
  },
  {
   "cell_type": "code",
   "execution_count": 23,
   "id": "f1580e60-7be0-4f15-96bf-4af993e33a00",
   "metadata": {
    "execution": {
     "iopub.execute_input": "2024-08-05T00:13:13.267871Z",
     "iopub.status.busy": "2024-08-05T00:13:13.267670Z",
     "iopub.status.idle": "2024-08-05T00:13:13.270661Z",
     "shell.execute_reply": "2024-08-05T00:13:13.270361Z",
     "shell.execute_reply.started": "2024-08-05T00:13:13.267857Z"
    }
   },
   "outputs": [
    {
     "data": {
      "text/markdown": [
       "**A Juventude e o Mistério das Criaturas Estranhas**\n",
       "\n",
       "Era uma manhã tranquila no campo, e o sol mal começava a despontar por trás das colinas. Red e Slim, dois garotos cheios de energia e curiosidade, estavam prestes a viver uma aventura que mudaria suas vidas para sempre. Na noite anterior, um estrondo misterioso ecoara pelo céu, e agora, com a luz do dia, eles estavam determinados a descobrir o que havia acontecido.\n",
       "\n",
       "\"Você ouviu aquilo, Slim?\" Red sussurrou, sua voz carregada de excitação. \"Acho que encontrei algo incrível!\"\n",
       "\n",
       "Slim, ainda sonolento, pulou da cama e correu até a janela. \"O que você encontrou?\" perguntou, seus olhos brilhando de curiosidade.\n",
       "\n",
       "\"Venha comigo!\" Red exclamou, puxando Slim para fora da casa. Eles correram pelo campo, a grama molhada da manhã fazendo cócegas em seus pés descalços. O mundo parecia ser deles, um vasto playground onde a imaginação não tinha limites.\n",
       "\n",
       "Ao chegarem ao celeiro, Red parou abruptamente. \"Estão aqui!\" Ele apontou para uma grande jaula coberta com uma lona. \"Olhe!\"\n",
       "\n",
       "Slim hesitou, um frio na barriga. \"O que são essas coisas, Red?\"\n",
       "\n",
       "\"São animais! Estranhos, mas incríveis. Eu os encontrei esta manhã. Vamos ver!\" Red levantou a lona, revelando duas pequenas criaturas que se moviam rapidamente, com olhos brilhantes e corpos cobertos de pelos estranhos.\n",
       "\n",
       "\"Elas parecem... diferentes,\" Slim murmurou, um misto de fascínio e medo. \"Você tem certeza de que elas são seguras?\"\n",
       "\n",
       "\"Claro! Vamos alimentá-las. Um circo precisa de animais, e nós podemos ser os donos do maior circo do mundo!\" Red disse, sua imaginação disparando.\n",
       "\n",
       "Os meninos passaram a manhã cuidando das criaturas, alimentando-as com carne crua que Red havia pegado da cozinha. Mas, à medida que o dia avançava, a preocupação começou a se instalar. O que aconteceria se seus pais descobrissem? E se as criaturas não fossem apenas animais, mas algo mais?\n",
       "\n",
       "Enquanto isso, os pais de Red e Slim, o Industrialista e o Astrônomo, estavam em uma conversa séria sobre o futuro da humanidade. O Astrônomo falava sobre a necessidade de mudança e inovação, enquanto o Industrialista se mostrava cético, preocupado com as consequências de um mundo que já havia enfrentado guerras devastadoras.\n",
       "\n",
       "\"Precisamos de juventude, de novas ideias,\" disse o Astrônomo. \"Esses meninos representam a esperança de um futuro melhor.\"\n",
       "\n",
       "Mas a esperança estava prestes a ser testada. Quando a mãe de Red entrou no celeiro, seu grito ecoou pelo ar. \"O que são essas coisas?!\" Ela exclamou, horrorizada ao ver as criaturas.\n",
       "\n",
       "Os meninos, apavorados, tentaram explicar, mas a confusão tomou conta. O Industrialista e o Astrônomo correram para o celeiro, e a tensão aumentou. As criaturas, percebendo o pânico, começaram a emitir sons estranhos, como se tentassem se comunicar.\n",
       "\n",
       "\"Elas não são perigosas!\" Red gritou, mas sua voz se perdeu na agitação. O Astrônomo, percebendo que as criaturas eram mais do que simples animais, tentou se concentrar e estabelecer uma conexão mental com elas.\n",
       "\n",
       "\"Estamos aqui para ajudar,\" ele pensou, e, para sua surpresa, as criaturas responderam. Elas eram seres de outro mundo, perdidos e confusos, mas não hostis.\n",
       "\n",
       "A revelação trouxe um novo entendimento. O Industrialista, inicialmente cético, viu a oportunidade de um novo começo. \"Se eles não nos querem mal, talvez possamos aprender com eles,\" disse ele, olhando para o Astrônomo.\n",
       "\n",
       "Com a ajuda dos meninos, que se tornaram os embaixadores entre os mundos, os adultos começaram a entender a importância da juventude e da inovação. As criaturas, que antes eram vistas como estranhas e assustadoras, tornaram-se símbolos de esperança e mudança.\n",
       "\n",
       "E assim, Red e Slim, com suas almas jovens e corajosas, não apenas salvaram as criaturas, mas também ajudaram a abrir os olhos de seus pais para um futuro onde a curiosidade e a imaginação poderiam levar a humanidade a novos horizontes. O circo que sonhavam em criar agora parecia uma possibilidade real, não apenas como um espetáculo, mas como um símbolo de união entre mundos.\n",
       "\n",
       "A juventude, com sua capacidade de sonhar e explorar, havia se tornado a chave para um novo começo. E, enquanto o sol se punha no horizonte, Red e Slim sabiam que suas aventuras estavam apenas começando."
      ],
      "text/plain": [
       "<IPython.core.display.Markdown object>"
      ]
     },
     "execution_count": 23,
     "metadata": {},
     "output_type": "execute_result"
    }
   ],
   "source": [
    "from IPython.display import Markdown\n",
    "Markdown(summary.content)"
   ]
  },
  {
   "cell_type": "markdown",
   "id": "c344d9e7-13e1-4960-bc0a-1ed9d7989313",
   "metadata": {},
   "source": [
    "# Multiplos Prompts"
   ]
  },
  {
   "cell_type": "code",
   "execution_count": 32,
   "id": "5f4586b6-c3c1-447e-a8f5-7acc0398d2fb",
   "metadata": {
    "execution": {
     "iopub.execute_input": "2024-08-05T00:19:41.600509Z",
     "iopub.status.busy": "2024-08-05T00:19:41.600266Z",
     "iopub.status.idle": "2024-08-05T00:19:41.605291Z",
     "shell.execute_reply": "2024-08-05T00:19:41.604637Z",
     "shell.execute_reply.started": "2024-08-05T00:19:41.600487Z"
    }
   },
   "outputs": [],
   "source": [
    "from langchain_community.document_loaders.text import TextLoader\n",
    "\n",
    "docs = TextLoader(file_path = TEXT_FILEPATH).load()"
   ]
  },
  {
   "cell_type": "code",
   "execution_count": 35,
   "id": "2ba82fb7-493a-4c5e-92af-657bf475a3ac",
   "metadata": {
    "execution": {
     "iopub.execute_input": "2024-08-05T00:20:05.084747Z",
     "iopub.status.busy": "2024-08-05T00:20:05.084556Z",
     "iopub.status.idle": "2024-08-05T00:20:05.114319Z",
     "shell.execute_reply": "2024-08-05T00:20:05.113862Z",
     "shell.execute_reply.started": "2024-08-05T00:20:05.084733Z"
    }
   },
   "outputs": [],
   "source": [
    "from langchain.text_splitter import RecursiveCharacterTextSplitter\n",
    "\n",
    "# we need to split the long input text\n",
    "text_splitter = RecursiveCharacterTextSplitter.from_tiktoken_encoder(\n",
    "    chunk_size=1000, chunk_overlap=100\n",
    ")\n",
    "\n",
    "split_docs = text_splitter.split_documents(docs)"
   ]
  },
  {
   "cell_type": "code",
   "execution_count": 37,
   "id": "b34eae22-b38b-4f5d-990e-6e61f15618a4",
   "metadata": {
    "execution": {
     "iopub.execute_input": "2024-08-05T00:24:30.273240Z",
     "iopub.status.busy": "2024-08-05T00:24:30.273035Z",
     "iopub.status.idle": "2024-08-05T00:28:01.919152Z",
     "shell.execute_reply": "2024-08-05T00:28:01.918732Z",
     "shell.execute_reply.started": "2024-08-05T00:24:30.273227Z"
    }
   },
   "outputs": [
    {
     "name": "stdout",
     "output_type": "stream",
     "text": [
      "Tokens Used: 55853\n",
      "\tPrompt Tokens: 37430\n",
      "\tCompletion Tokens: 18423\n",
      "Successful Requests: 22\n",
      "Total Cost (USD): $0.0166683\n"
     ]
    }
   ],
   "source": [
    "from langchain.chains.summarize import load_summarize_chain\n",
    "\n",
    "chain = load_summarize_chain(llm, chain_type=\"refine\")\n",
    "\n",
    "with get_openai_callback() as cb:\n",
    "    summary = chain.invoke(split_docs)\n",
    "    print(cb)"
   ]
  },
  {
   "cell_type": "code",
   "execution_count": 42,
   "id": "49faa343-6879-41ca-b4ac-983fbf02d3c3",
   "metadata": {
    "execution": {
     "iopub.execute_input": "2024-08-05T00:32:21.643964Z",
     "iopub.status.busy": "2024-08-05T00:32:21.643715Z",
     "iopub.status.idle": "2024-08-05T00:32:49.297427Z",
     "shell.execute_reply": "2024-08-05T00:32:49.297043Z",
     "shell.execute_reply.started": "2024-08-05T00:32:21.643944Z"
    }
   },
   "outputs": [
    {
     "name": "stdout",
     "output_type": "stream",
     "text": [
      "Tokens Used: 3012\n",
      "\tPrompt Tokens: 1352\n",
      "\tCompletion Tokens: 1660\n",
      "Successful Requests: 1\n",
      "Total Cost (USD): $0.0011987999999999999\n"
     ]
    }
   ],
   "source": [
    "from langchain.prompts import PromptTemplate\n",
    "\n",
    "text_template = (\n",
    "    \"Por favor, traduza o seguinte texto para português:\\n\"\n",
    "    \"```\\n\"\n",
    "    \"{text}\"\n",
    "    \"\\n```\"\n",
    ")\n",
    "\n",
    "prompt = PromptTemplate(input_variables=[\"text\"], template=text_template)\n",
    "\n",
    "chain = prompt | llm\n",
    "\n",
    "with get_openai_callback() as cb:\n",
    "    summary_translated = chain.invoke({\"text\": summary[\"output_text\"]})\n",
    "    print(cb)"
   ]
  },
  {
   "cell_type": "code",
   "execution_count": 44,
   "id": "458126b3-bcac-4c84-bd0a-45104354d2b7",
   "metadata": {
    "execution": {
     "iopub.execute_input": "2024-08-05T00:32:51.319793Z",
     "iopub.status.busy": "2024-08-05T00:32:51.319560Z",
     "iopub.status.idle": "2024-08-05T00:32:51.323019Z",
     "shell.execute_reply": "2024-08-05T00:32:51.322729Z",
     "shell.execute_reply.started": "2024-08-05T00:32:51.319772Z"
    }
   },
   "outputs": [
    {
     "data": {
      "text/markdown": [
       "O eBook do Project Gutenberg \"Juventude\" de Isaac Asimov conta a história de dois meninos, Red e Slim, que descobrem um senso de aventura e amizade nas primeiras horas da manhã. Após ouvirem sons misteriosos de trovão na noite anterior, eles se encontram do lado de fora em uma paisagem tranquila e orvalhada, onde compartilham sua empolgação sobre o mundo ao seu redor. A narrativa captura a inocência e a camaradagem da infância enquanto os meninos exploram seus arredores e desfrutam da liberdade de estar longe da supervisão dos adultos. Enquanto caminham por uma estrada de concreto, Red provoca Slim com a ideia de um segredo relacionado a um circo, acendendo a imaginação de Slim. Red revela que encontrou dois pequenos animais incomuns, que ele acredita que poderiam levá-los a se juntar a um circo, aprofundando ainda mais seu vínculo e senso de aventura. A história ilustra lindamente os sonhos e aspirações da infância, bem como a emoção de embarcar em uma jornada compartilhada.\n",
       "\n",
       "Enquanto isso, a narrativa também apresenta personagens adultos, como um Astrônomo e um Industrialista, que discutem as implicações de um projetor de pensamentos, insinuando uma conexão mais profunda entre as aventuras inocentes dos meninos e as complexidades da vida adulta. A conversa deles reflete sobre as mudanças sociais e o contraste entre a imaginação juvenil e o peso das preocupações adultas. O Astrônomo alerta que a sociedade está estagnando e caminhando para a destruição, enquanto o Industrialista expressa ceticismo sobre a mudança. Eles ponderam por que seres avançados ainda buscariam recursos básicos como carvão e petróleo, sugerindo um desconexão entre o avanço tecnológico e as necessidades da sociedade. Essa justaposição enriquece a história, destacando a tensão entre as esperanças da juventude e os fardos de um mundo que perdeu seu caminho. Em última análise, a narrativa sugere que a vitalidade da juventude, personificada por Red e Slim, pode conter a chave para revitalizar uma sociedade cansada, enfatizando a importância de nutrir a curiosidade e a aventura diante do cinismo adulto.\n",
       "\n",
       "O contexto adicional introduz temas de exploração e as consequências do avanço tecnológico, como visto através das experiências do Explorador e do Mercador em um ambiente alienígena. As discussões deles sobre os desafios da viagem interestelar e a natureza das civilizações alienígenas ressaltam ainda mais o contraste entre a inocência das aventuras de Red e Slim e as complexidades enfrentadas pelos adultos em um mundo em rápida mudança. A situação perigosa enfrentada pelo Explorador e pelo Mercador, incluindo um pouso forçado e encontros com vida alienígena, serve como um lembrete contundente dos perigos e da imprevisibilidade da exploração. Essa narrativa em camadas convida os leitores a refletir sobre o equilíbrio entre os sonhos juvenis e as duras realidades da existência, reforçando a ideia de que o espírito de aventura e imaginação é essencial tanto para crianças quanto para adultos.\n",
       "\n",
       "À medida que a história se desenrola, as travessuras brincalhonas dos meninos são espelhadas pela tensa situação do Explorador e do Mercador, que se veem capturados por uma criatura gigante em um planeta alienígena. As tentativas desesperadas deles de se comunicar e sobreviver destacam o contraste gritante entre a inocência despreocupada de Red e Slim e os desafios que ameaçam a vida enfrentados pelos adultos. O pânico do Mercador e o raciocínio calmo do Explorador ilustram as complexidades da vida adulta, onde decisões têm consequências significativas. Essa estrutura narrativa dual enfatiza a importância da imaginação e da aventura na infância, ao mesmo tempo em que reconhece o peso da responsabilidade e a imprevisibilidade do mundo adulto. Em última análise, \"Juventude\" de Asimov serve como um lembrete tocante da necessidade de preservar o espírito de exploração e maravilha, independentemente da idade.\n",
       "\n",
       "As interações entre Red e seu pai, juntamente com as discussões entre o Astrônomo e o Industrialista, ilustram ainda mais a tensão entre a curiosidade juvenil e o ceticismo adulto. A descoberta pelos meninos do que acreditam ser uma nave espacial, juntamente com suas discussões sobre a natureza de outros mundos, destaca seu espírito imaginativo e contrasta fortemente com as preocupações mais pragmáticas dos adultos. A insistência brincalhona de Red em cuidar dos animais que encontraram, apesar das dúvidas de Slim, demonstra a inocência e a determinação da juventude. Enquanto isso, os adultos lutam com as implicações de suas próprias descobertas e as realidades de suas vidas, enfatizando a desconexão entre as aspirações da juventude e os fardos da vida adulta. As percepções do Astrônomo sobre a natureza das civilizações alienígenas e seu desinteresse pela Terra devido à abundância de mundos adequados em outros lugares enfatizam ainda mais esse tema, sugerindo que o futuro pode estar nas mãos do espírito imaginativo e aventureiro dos jovens.\n",
       "\n",
       "Em um momento crucial, a travessura inocente de Red leva a um confronto com seu pai sobre os animais que ele pegou, ilustrando o choque entre seus impulsos juvenis e as responsabilidades impostas pela vida adulta. A preocupação do Industrialista com o bem-estar do cozinheiro e a compreensão do Astrônomo sobre a curiosidade de Red destacam as complexidades da vida adulta, onde decisões e ações têm consequências significativas. Esse momento serve para reforçar a exploração da narrativa sobre a tensão entre a natureza despreocupada da infância e o peso das expectativas adultas, sublinhando a importância de nutrir o espírito de aventura e imaginação diante dos desafios da vida. A urgência da necessidade de Slim de falar com Red sobre os animais e a revelação de sua potencial natureza alienígena aumentam ainda mais as apostas de sua aventura, enfatizando a inocência dos meninos e as consequências iminentes de suas ações. À medida que eles lidam com as implicações de suas descobertas, a história ilustra de forma tocante o delicado equilíbrio entre a curiosidade juvenil e as responsabilidades que vêm com o crescimento. O pânico dos meninos ao perceberem a seriedade de sua situação, enquanto confrontam os animais que inicialmente viam como meras curiosidades, sublinha a transformação de sua aventura inocente em um momento de medo e responsabilidade, encapsulando a essência da exploração de Asimov sobre a juventude e a vida adulta.\n",
       "\n",
       "O novo contexto adiciona profundidade à narrativa, particularmente nas interações entre os adultos e as estranhas criaturas descobertas por Red e Slim. A descrição frenética da mãe sobre os animais e a preocupação imediata do Industrialista com a segurança deles destacam o medo e o mal-entendido que muitas vezes acompanham o desconhecido. As tentativas do Astrônomo de se comunicar com as criaturas revelam as complexidades da vida adulta, onde conhecimento e compreensão são frequentemente ofuscados pelo medo e pela urgência. A realização do Industrialista de que as criaturas não são hostis, mas sim confusas e assustadas, enfatiza o tema da falta de comunicação entre gerações e a importância da empatia. Esse momento serve para ilustrar ainda mais o contraste entre a curiosidade inocente dos meninos e a tendência do mundo adulto de reagir com medo e agressão. Em última análise, \"Juventude\" de Asimov se torna uma rica tapeçaria de temas, entrelaçando a inocência da infância, as complexidades da vida adulta e a vital importância da imaginação e compreensão para unir os dois. A história culmina em um momento tocante, enquanto Red, personificando o espírito da juventude, observa a nave que parte, cheio de arrependimento por uma oportunidade perdida, simbolizando a natureza agridoce de crescer e o poder duradouro da imaginação."
      ],
      "text/plain": [
       "<IPython.core.display.Markdown object>"
      ]
     },
     "execution_count": 44,
     "metadata": {},
     "output_type": "execute_result"
    }
   ],
   "source": [
    "from IPython.display import Markdown\n",
    "Markdown(summary_translated.content)"
   ]
  },
  {
   "cell_type": "code",
   "execution_count": null,
   "id": "b764a021-5660-41bf-9b82-1b826496a250",
   "metadata": {},
   "outputs": [],
   "source": []
  }
 ],
 "metadata": {
  "kernelspec": {
   "display_name": "Python 3 (ipykernel)",
   "language": "python",
   "name": "python3"
  },
  "language_info": {
   "codemirror_mode": {
    "name": "ipython",
    "version": 3
   },
   "file_extension": ".py",
   "mimetype": "text/x-python",
   "name": "python",
   "nbconvert_exporter": "python",
   "pygments_lexer": "ipython3",
   "version": "3.11.6"
  }
 },
 "nbformat": 4,
 "nbformat_minor": 5
}
